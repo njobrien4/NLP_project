{
 "cells": [
  {
   "cell_type": "code",
   "execution_count": 12,
   "metadata": {
    "collapsed": true
   },
   "outputs": [],
   "source": [
    "import torch\n",
    "import gzip\n",
    "#text_tokenized.txt.gz has id \\t title \\t question body\n",
    "text_tokenized=('askubuntu/text_tokenized.txt.gz')\n",
    "\n",
    "with gzip.open(text_tokenized,'r') as f:\n",
    "    text_tokens=f.readlines()\n",
    "text_tokens=[token.replace('\\n','').split('\\t') for token in text_tokens]"
   ]
  },
  {
   "cell_type": "code",
   "execution_count": 13,
   "metadata": {
    "collapsed": false
   },
   "outputs": [
    {
     "data": {
      "text/plain": [
       "['3',\n",
       " 'how can i set the software center to install software for non-root users ?',\n",
       " \"how can i set the software center to allow non-root users to install stuff from the ubuntu repos without having to type in their password ? i 'm fully aware of the security implications , and i am willing to take the risk . fedora 12 shipped with something like this . ( by modifying the policykit configuration , i believe )\"]"
      ]
     },
     "execution_count": 13,
     "metadata": {},
     "output_type": "execute_result"
    }
   ],
   "source": [
    "text_tokens[1]"
   ]
  },
  {
   "cell_type": "code",
   "execution_count": 16,
   "metadata": {
    "collapsed": false
   },
   "outputs": [
    {
     "data": {
      "text/plain": [
       "['491522',\n",
       " '65911',\n",
       " '155119 402211 310669 383107 131731 299465 163335 219514 459080 416153 369799 451295 392583 73818 271826 401323 236292 392481 78121 168780 285871 315524 408393 409033 126398 126478 220995 38343 124425 103110 477989 312867 382232 392656 23301 423981 223482 249927 218114 50339 289659 59635 110248 405564 455873 461582 475212 140886 325529 232346 343827 233501 137436 507540 218383 225250 217455 326377 110507 398243 68901 473958 206082 97361 111773 272754 122464 185695 119648 412430 267143 302844 113903 266828 331371 513534 67054 247914 48656 361816 303380 475919 129830 156712 497744 191402 155303 81797 392139 344420 56046 25556 65303 202065 202689 435709 373048 4375 67676 126833']"
      ]
     },
     "execution_count": 16,
     "metadata": {},
     "output_type": "execute_result"
    }
   ],
   "source": [
    "#train_random.txt\n",
    "#(1) the query question ID, (2) the list of similar question IDs, and (3) the list of randomly selected question IDs.\n",
    "train_random='askubuntu/train_random.txt'\n",
    "with open(train_random,'r') as f:\n",
    "    id_map=f.readlines()\n",
    "id_map = [token.replace('\\n','').split('\\t') for token in id_map]\n",
    "id_map[1]"
   ]
  },
  {
   "cell_type": "code",
   "execution_count": 3,
   "metadata": {
    "collapsed": false
   },
   "outputs": [
    {
     "data": {
      "text/plain": [
       "['457914',\n",
       " '414757 124570 447370 400244 384695 332893 339005 398676 367544 483967 288906 194549',\n",
       " '154242 414757 124570 447370 400244 360842 384695 332893 339005 398676 403443 98882 523503 476338 172429 367544 483967 288906 194549 386523',\n",
       " '15.479288 15.301497 13.956906 13.456234 12.912189 12.904035 12.486313 12.094811 11.883369 11.812426 11.664207 11.658416 11.616432 11.512577 11.435183 11.419148 11.079945 11.0405655 10.998035 10.911881']"
      ]
     },
     "execution_count": 3,
     "metadata": {},
     "output_type": "execute_result"
    }
   ],
   "source": [
    "dev='askubuntu/dev.txt'\n",
    "test='askubuntu/test.txt'\n",
    "#Each line contains (1) the query question ID, (2) the list of similar question IDs, (3) the list of 20 candidate question IDs and (4) the associated BM25 scores of these questions computed by the Lucene search engine. The second field (the set of similar questions) is a subset of the third field.\n",
    "with open(dev,'r') as f: \n",
    "    dev_map=f.readlines()\n",
    "dev_map = [token.replace('\\n','').split('\\t') for token in dev_map]\n",
    "dev_map[1]"
   ]
  },
  {
   "cell_type": "code",
   "execution_count": 6,
   "metadata": {
    "collapsed": false
   },
   "outputs": [
    {
     "data": {
      "text/plain": [
       "['396433',\n",
       " '506447',\n",
       " '194457 426449 50153 422251 69283 106166 402479 506447 471575 425535 183705 136781 352131 118290 126504 229968 18900 404395 520171 336611',\n",
       " '22.52305 22.392857 22.161459 21.94364 21.937004 21.758656 21.548307 21.539364 21.241386 20.972958 20.807392 20.770487 20.754192 20.620377 20.594923 20.56512 20.518476 20.435692 20.35492 20.209486']"
      ]
     },
     "execution_count": 6,
     "metadata": {},
     "output_type": "execute_result"
    }
   ],
   "source": [
    "with open(test,'r') as f:\n",
    "    test_map=f.readlines()\n",
    "test_map = [token.replace('\\n','').split('\\t') for token in test_map]\n",
    "test_map[1]"
   ]
  },
  {
   "cell_type": "code",
   "execution_count": 27,
   "metadata": {
    "collapsed": false
   },
   "outputs": [],
   "source": [
    "import gzip\n",
    "import numpy as np\n",
    "word_embeddings = 'askubuntu/vector/vectors_pruned.200.txt.gz'\n",
    "f = gzip.open(word_embeddings, 'r')\n",
    "wv_text = [ ]\n",
    "lines = f.readlines()\n",
    "for line in lines:\n",
    "    wv_text.append(line.strip())\n",
    "\n",
    "word_to_vec = {}\n",
    "\n",
    "for line in wv_text:\n",
    "    parts = line.split()\n",
    "    word = parts[0]\n",
    "    vector = np.array([float(v) for v in parts[1:]])\n",
    "    word_to_vec[word] = vector\n",
    "f.close()\n",
    "\n",
    "def extract_features(word):\n",
    "    word=word.encode('utf-8')\n",
    "    return word_to_vec.get(word,[0.0 for i in range(200)])"
   ]
  },
  {
   "cell_type": "code",
   "execution_count": 28,
   "metadata": {
    "collapsed": false
   },
   "outputs": [
    {
     "data": {
      "text/plain": [
       "array([-0.065441, -0.03332 ,  0.034324, -0.128022,  0.096657, -0.08017 ,\n",
       "        0.102231, -0.089683, -0.028255, -0.086952,  0.070517, -0.135951,\n",
       "        0.098052,  0.024535,  0.113779, -0.079336,  0.012262, -0.050957,\n",
       "       -0.077769, -0.008386,  0.029976, -0.049532,  0.059111, -0.067764,\n",
       "       -0.072055, -0.010745,  0.046867, -0.120011,  0.027378, -0.082795,\n",
       "        0.02351 ,  0.03903 , -0.025096,  0.06783 , -0.031446,  0.052929,\n",
       "       -0.06407 ,  0.117311, -0.087159, -0.020989, -0.036637,  0.026828,\n",
       "        0.141048,  0.045718, -0.088519,  0.071976,  0.037481, -0.062432,\n",
       "       -0.05744 , -0.010401, -0.020395, -0.03896 ,  0.008944,  0.129289,\n",
       "        0.060201, -0.006121, -0.037825,  0.007323, -0.022857,  0.020108,\n",
       "        0.079329, -0.014598, -0.019129,  0.12104 , -0.027917,  0.058671,\n",
       "       -0.086858, -0.091587,  0.066807, -0.045374,  0.084205, -0.186351,\n",
       "        0.002879, -0.03707 ,  0.070975, -0.114748,  0.073913,  0.037019,\n",
       "        0.0344  ,  0.069251,  0.019018, -0.052932, -0.191245, -0.012273,\n",
       "       -0.014802,  0.093337,  0.036026,  0.037739, -0.033732,  0.053829,\n",
       "        0.053234, -0.109628, -0.129538,  0.033187, -0.051275,  0.07904 ,\n",
       "        0.084421,  0.056596,  0.040288, -0.02767 ,  0.123907, -0.062915,\n",
       "        0.063587, -0.035336,  0.063168, -0.126006,  0.032492,  0.053384,\n",
       "        0.025599,  0.082147, -0.001842,  0.059421, -0.061621,  0.077101,\n",
       "        0.128856, -0.037541,  0.065982,  0.102392,  0.011767,  0.052655,\n",
       "        0.014581,  0.00242 ,  0.031818,  0.044309, -0.070533,  0.038766,\n",
       "        0.075839,  0.01545 ,  0.017019, -0.090007, -0.052143, -0.030375,\n",
       "        0.024504, -0.058877, -0.027637, -0.134387, -0.084204,  0.148427,\n",
       "       -0.088901, -0.047225, -0.053581, -0.035502, -0.120787,  0.031652,\n",
       "        0.12082 ,  0.068783,  0.072023, -0.090727,  0.013747,  0.13841 ,\n",
       "       -0.089734, -0.136349,  0.058681,  0.003785,  0.020867, -0.021186,\n",
       "       -0.007973, -0.004766,  0.070104, -0.003098,  0.005767, -0.005309,\n",
       "        0.068596, -0.011657,  0.055432, -0.059484, -0.058944,  0.075799,\n",
       "        0.135869,  0.039892, -0.012855,  0.107226, -0.077801, -0.076487,\n",
       "        0.009346, -0.172137, -0.016121,  0.030117, -0.05423 ,  0.066907,\n",
       "       -0.080797, -0.077264, -0.058617, -0.095475,  0.104495, -0.001259,\n",
       "        0.059968,  0.030142,  0.028358,  0.028924,  0.076526, -0.057095,\n",
       "       -0.055527,  0.024757,  0.108837,  0.054416,  0.071743,  0.097991,\n",
       "       -0.039706, -0.024659])"
      ]
     },
     "execution_count": 28,
     "metadata": {},
     "output_type": "execute_result"
    }
   ],
   "source": [
    "extract_features('quiz')"
   ]
  },
  {
   "cell_type": "code",
   "execution_count": null,
   "metadata": {
    "collapsed": true
   },
   "outputs": [],
   "source": []
  }
 ],
 "metadata": {
  "kernelspec": {
   "display_name": "Python 3",
   "language": "python",
   "name": "python3"
  },
  "language_info": {
   "codemirror_mode": {
    "name": "ipython",
    "version": 3
   },
   "file_extension": ".py",
   "mimetype": "text/x-python",
   "name": "python",
   "nbconvert_exporter": "python",
   "pygments_lexer": "ipython3",
   "version": "3.6.0"
  }
 },
 "nbformat": 4,
 "nbformat_minor": 2
}
