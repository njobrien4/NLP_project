{
 "cells": [
  {
   "cell_type": "code",
   "execution_count": 12,
   "metadata": {
    "collapsed": true
   },
   "outputs": [],
   "source": [
    "import torch\n",
    "import gzip\n",
    "#text_tokenized.txt.gz has id \\t title \\t question body\n",
    "text_tokenized=('askubuntu/text_tokenized.txt.gz')\n",
    "\n",
    "with gzip.open(text_tokenized,'r') as f:\n",
    "    text_tokens=f.readlines()\n",
    "text_tokens=[token.replace('\\n','').split('\\t') for token in text_tokens]"
   ]
  },
  {
   "cell_type": "code",
   "execution_count": 13,
   "metadata": {
    "collapsed": false
   },
   "outputs": [
    {
     "data": {
      "text/plain": [
       "['3',\n",
       " 'how can i set the software center to install software for non-root users ?',\n",
       " \"how can i set the software center to allow non-root users to install stuff from the ubuntu repos without having to type in their password ? i 'm fully aware of the security implications , and i am willing to take the risk . fedora 12 shipped with something like this . ( by modifying the policykit configuration , i believe )\"]"
      ]
     },
     "execution_count": 13,
     "metadata": {},
     "output_type": "execute_result"
    }
   ],
   "source": [
    "text_tokens[1]"
   ]
  },
  {
   "cell_type": "code",
   "execution_count": 16,
   "metadata": {
    "collapsed": false
   },
   "outputs": [
    {
     "data": {
      "text/plain": [
       "['491522',\n",
       " '65911',\n",
       " '155119 402211 310669 383107 131731 299465 163335 219514 459080 416153 369799 451295 392583 73818 271826 401323 236292 392481 78121 168780 285871 315524 408393 409033 126398 126478 220995 38343 124425 103110 477989 312867 382232 392656 23301 423981 223482 249927 218114 50339 289659 59635 110248 405564 455873 461582 475212 140886 325529 232346 343827 233501 137436 507540 218383 225250 217455 326377 110507 398243 68901 473958 206082 97361 111773 272754 122464 185695 119648 412430 267143 302844 113903 266828 331371 513534 67054 247914 48656 361816 303380 475919 129830 156712 497744 191402 155303 81797 392139 344420 56046 25556 65303 202065 202689 435709 373048 4375 67676 126833']"
      ]
     },
     "execution_count": 16,
     "metadata": {},
     "output_type": "execute_result"
    }
   ],
   "source": [
    "#train_random.txt\n",
    "#(1) the query question ID, (2) the list of similar question IDs, and (3) the list of randomly selected question IDs.\n",
    "train_random='askubuntu/train_random.txt'\n",
    "with open(train_random,'r') as f:\n",
    "    id_map=f.readlines()\n",
    "id_map = [token.replace('\\n','').split('\\t') for token in id_map]\n",
    "id_map[1]"
   ]
  },
  {
   "cell_type": "code",
   "execution_count": 3,
   "metadata": {
    "collapsed": false
   },
   "outputs": [
    {
     "data": {
      "text/plain": [
       "['457914',\n",
       " '414757 124570 447370 400244 384695 332893 339005 398676 367544 483967 288906 194549',\n",
       " '154242 414757 124570 447370 400244 360842 384695 332893 339005 398676 403443 98882 523503 476338 172429 367544 483967 288906 194549 386523',\n",
       " '15.479288 15.301497 13.956906 13.456234 12.912189 12.904035 12.486313 12.094811 11.883369 11.812426 11.664207 11.658416 11.616432 11.512577 11.435183 11.419148 11.079945 11.0405655 10.998035 10.911881']"
      ]
     },
     "execution_count": 3,
     "metadata": {},
     "output_type": "execute_result"
    }
   ],
   "source": [
    "dev='askubuntu/dev.txt'\n",
    "test='askubuntu/test.txt'\n",
    "#Each line contains (1) the query question ID, (2) the list of similar question IDs, (3) the list of 20 candidate question IDs and (4) the associated BM25 scores of these questions computed by the Lucene search engine. The second field (the set of similar questions) is a subset of the third field.\n",
    "with open(dev,'r') as f: \n",
    "    dev_map=f.readlines()\n",
    "dev_map = [token.replace('\\n','').split('\\t') for token in dev_map]\n",
    "dev_map[1]"
   ]
  },
  {
   "cell_type": "code",
   "execution_count": 6,
   "metadata": {
    "collapsed": false
   },
   "outputs": [
    {
     "data": {
      "text/plain": [
       "['396433',\n",
       " '506447',\n",
       " '194457 426449 50153 422251 69283 106166 402479 506447 471575 425535 183705 136781 352131 118290 126504 229968 18900 404395 520171 336611',\n",
       " '22.52305 22.392857 22.161459 21.94364 21.937004 21.758656 21.548307 21.539364 21.241386 20.972958 20.807392 20.770487 20.754192 20.620377 20.594923 20.56512 20.518476 20.435692 20.35492 20.209486']"
      ]
     },
     "execution_count": 6,
     "metadata": {},
     "output_type": "execute_result"
    }
   ],
   "source": [
    "with open(test,'r') as f:\n",
    "    test_map=f.readlines()\n",
    "test_map = [token.replace('\\n','').split('\\t') for token in test_map]\n",
    "test_map[1]"
   ]
  },
  {
   "cell_type": "code",
   "execution_count": 17,
   "metadata": {
    "collapsed": false
   },
   "outputs": [],
   "source": [
    "import gzip\n",
    "import numpy as np\n",
    "word_embeddings = 'askubuntu/vector/vectors_pruned.200.txt.gz'\n",
    "f = gzip.open(word_embeddings, 'r')\n",
    "wv_text = [ ]\n",
    "lines = f.readlines()\n",
    "for line in lines:\n",
    "    wv_text.append(line.strip())\n",
    "\n",
    "word_to_vec = {}\n",
    "\n",
    "for line in wv_text:\n",
    "    parts = line.split()\n",
    "    word = parts[0]\n",
    "    vector = np.array([float(v) for v in parts[1:]])\n",
    "    word_to_vec[word] = vector\n",
    "f.close()\n",
    "\n",
    "def extract_features(word):\n",
    "    word=word.encode('utf-8')\n",
    "    return np.append(word_to_vec.get(word,[0.0 for i in range(200)]),[int(word=='-'),int(any(char in word for char in 'aeiou')),\n",
    "             int(any(not char.islower() for char in word[1:])),\n",
    "            int(all(char.isdigit() for char in word)),int(any(char.isdigit() for char in word))])"
   ]
  },
  {
   "cell_type": "code",
   "execution_count": 21,
   "metadata": {
    "collapsed": false
   },
   "outputs": [
    {
     "data": {
      "text/plain": [
       "array([ 0.,  0.,  0.,  0.,  0.,  0.,  0.,  0.,  0.,  0.,  0.,  0.,  0.,\n",
       "        0.,  0.,  0.,  0.,  0.,  0.,  0.,  0.,  0.,  0.,  0.,  0.,  0.,\n",
       "        0.,  0.,  0.,  0.,  0.,  0.,  0.,  0.,  0.,  0.,  0.,  0.,  0.,\n",
       "        0.,  0.,  0.,  0.,  0.,  0.,  0.,  0.,  0.,  0.,  0.,  0.,  0.,\n",
       "        0.,  0.,  0.,  0.,  0.,  0.,  0.,  0.,  0.,  0.,  0.,  0.,  0.,\n",
       "        0.,  0.,  0.,  0.,  0.,  0.,  0.,  0.,  0.,  0.,  0.,  0.,  0.,\n",
       "        0.,  0.,  0.,  0.,  0.,  0.,  0.,  0.,  0.,  0.,  0.,  0.,  0.,\n",
       "        0.,  0.,  0.,  0.,  0.,  0.,  0.,  0.,  0.,  0.,  0.,  0.,  0.,\n",
       "        0.,  0.,  0.,  0.,  0.,  0.,  0.,  0.,  0.,  0.,  0.,  0.,  0.,\n",
       "        0.,  0.,  0.,  0.,  0.,  0.,  0.,  0.,  0.,  0.,  0.,  0.,  0.,\n",
       "        0.,  0.,  0.,  0.,  0.,  0.,  0.,  0.,  0.,  0.,  0.,  0.,  0.,\n",
       "        0.,  0.,  0.,  0.,  0.,  0.,  0.,  0.,  0.,  0.,  0.,  0.,  0.,\n",
       "        0.,  0.,  0.,  0.,  0.,  0.,  0.,  0.,  0.,  0.,  0.,  0.,  0.,\n",
       "        0.,  0.,  0.,  0.,  0.,  0.,  0.,  0.,  0.,  0.,  0.,  0.,  0.,\n",
       "        0.,  0.,  0.,  0.,  0.,  0.,  0.,  0.,  0.,  0.,  0.,  0.,  0.,\n",
       "        0.,  0.,  0.,  0.,  0.,  0.,  1.,  0.,  0.,  0.])"
      ]
     },
     "execution_count": 21,
     "metadata": {},
     "output_type": "execute_result"
    }
   ],
   "source": [
    "extract_features('dog')"
   ]
  },
  {
   "cell_type": "code",
   "execution_count": null,
   "metadata": {
    "collapsed": true
   },
   "outputs": [],
   "source": []
  }
 ],
 "metadata": {
  "kernelspec": {
   "display_name": "Python 3",
   "language": "python",
   "name": "python3"
  },
  "language_info": {
   "codemirror_mode": {
    "name": "ipython",
    "version": 3
   },
   "file_extension": ".py",
   "mimetype": "text/x-python",
   "name": "python",
   "nbconvert_exporter": "python",
   "pygments_lexer": "ipython3",
   "version": "3.6.0"
  }
 },
 "nbformat": 4,
 "nbformat_minor": 2
}
