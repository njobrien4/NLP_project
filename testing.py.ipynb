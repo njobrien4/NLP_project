{
 "cells": [
  {
   "cell_type": "code",
   "execution_count": 12,
   "metadata": {},
   "outputs": [],
   "source": [
    "import torch\n",
    "import gzip\n",
    "#text_tokenized.txt.gz has id \\t title \\t question body\n",
    "text_tokenized=('askubuntu/text_tokenized.txt.gz')\n",
    "\n",
    "with gzip.open(text_tokenized,'r') as f:\n",
    "    text_tokens=f.readlines()\n",
    "text_tokens=[token.replace('\\n','').split('\\t') for token in text_tokens]"
   ]
  },
  {
   "cell_type": "code",
   "execution_count": 13,
   "metadata": {},
   "outputs": [
    {
     "data": {
      "text/plain": [
       "['3',\n",
       " 'how can i set the software center to install software for non-root users ?',\n",
       " \"how can i set the software center to allow non-root users to install stuff from the ubuntu repos without having to type in their password ? i 'm fully aware of the security implications , and i am willing to take the risk . fedora 12 shipped with something like this . ( by modifying the policykit configuration , i believe )\"]"
      ]
     },
     "execution_count": 13,
     "metadata": {},
     "output_type": "execute_result"
    }
   ],
   "source": [
    "text_tokens[1]"
   ]
  },
  {
   "cell_type": "code",
   "execution_count": 16,
   "metadata": {},
   "outputs": [
    {
     "data": {
      "text/plain": [
       "['491522',\n",
       " '65911',\n",
       " '155119 402211 310669 383107 131731 299465 163335 219514 459080 416153 369799 451295 392583 73818 271826 401323 236292 392481 78121 168780 285871 315524 408393 409033 126398 126478 220995 38343 124425 103110 477989 312867 382232 392656 23301 423981 223482 249927 218114 50339 289659 59635 110248 405564 455873 461582 475212 140886 325529 232346 343827 233501 137436 507540 218383 225250 217455 326377 110507 398243 68901 473958 206082 97361 111773 272754 122464 185695 119648 412430 267143 302844 113903 266828 331371 513534 67054 247914 48656 361816 303380 475919 129830 156712 497744 191402 155303 81797 392139 344420 56046 25556 65303 202065 202689 435709 373048 4375 67676 126833']"
      ]
     },
     "execution_count": 16,
     "metadata": {},
     "output_type": "execute_result"
    }
   ],
   "source": [
    "#train_random.txt\n",
    "#(1) the query question ID, (2) the list of similar question IDs, and (3) the list of randomly selected question IDs.\n",
    "train_random='askubuntu/train_random.txt'\n",
    "with open(train_random,'r') as f:\n",
    "    id_map=f.readlines()[:10]\n",
    "id_map = [token.replace('\\n','').split('\\t') for token in id_map]\n",
    "id_map[1]"
   ]
  },
  {
   "cell_type": "code",
   "execution_count": null,
   "metadata": {
    "collapsed": true
   },
   "outputs": [],
   "source": []
  }
 ],
 "metadata": {
  "kernelspec": {
   "display_name": "Python 2",
   "language": "python",
   "name": "python2"
  },
  "language_info": {
   "codemirror_mode": {
    "name": "ipython",
    "version": 2
   },
   "file_extension": ".py",
   "mimetype": "text/x-python",
   "name": "python",
   "nbconvert_exporter": "python",
   "pygments_lexer": "ipython2",
   "version": "2.7.13"
  }
 },
 "nbformat": 4,
 "nbformat_minor": 2
}
