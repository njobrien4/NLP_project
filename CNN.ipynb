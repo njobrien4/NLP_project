{
 "cells": [
  {
   "cell_type": "code",
   "execution_count": 1,
   "metadata": {
    "collapsed": true
   },
   "outputs": [],
   "source": [
    "NUM_NEGATIVE_SAMPLES=20\n",
    "\n",
    "from random import randint\n",
    "def N_random_values_in_list(full_list, N):\n",
    "    x=0\n",
    "    lower_bound  = 0\n",
    "    upper_bound = len(full_list)-1\n",
    "    sample_list=[]\n",
    "    random_nums=[]\n",
    "    while x < min(N,len(full_list)):\n",
    "        random_num = randint(lower_bound, upper_bound) # inclusive range\n",
    "        if random_num in random_nums:\n",
    "            continue\n",
    "        else:\n",
    "            random_nums.append(random_num)\n",
    "            x += 1\n",
    "    return [full_list[i] for i in random_nums]"
   ]
  },
  {
   "cell_type": "code",
   "execution_count": 2,
   "metadata": {
    "collapsed": true
   },
   "outputs": [],
   "source": [
    "import torch\n",
    "import gzip\n",
    "import numpy as np\n",
    "\n",
    "def convert_to_list(filename):\n",
    "    if filename.endswith('gz'):\n",
    "        with gzip.open(filename,'r')as f:\n",
    "            text_tokens = f.readlines()\n",
    "    else:\n",
    "        with open(filename, 'r') as f:\n",
    "            text_tokens = f.readlines()\n",
    "    text_tokens = [token.replace('\\n','').split('\\t') for token in text_tokens]\n",
    "    text_tokens = [[token[0], token[1].split(' '), token[2].split(' ')] for token in text_tokens]\n",
    "                   \n",
    "    return text_tokens\n",
    "\n",
    "#Sample:question_id, similar_question_id, negative_question_id\n",
    "def convert_to_samples(filename):\n",
    "    my_list=convert_to_list(filename)\n",
    "    new_samples=[]\n",
    "    for original_sample in my_list:\n",
    "        for similar in original_sample[1]:\n",
    "            random_negative_samples = N_random_values_in_list(original_sample[2],NUM_NEGATIVE_SAMPLES)\n",
    "            new_samples.append([original_sample[0], similar, random_negative_samples])# change this to include all negative \n",
    "                                                                                     # examples later\n",
    "    return new_samples\n",
    "def make_lookup_table_for_training_data(filename):\n",
    "    lookup={}\n",
    "    text_token_list=convert_to_list(filename)\n",
    "    for token in text_token_list:\n",
    "        lookup[token[0]] = {'title':token[1],'question':token[2]}\n",
    "    return lookup\n",
    "        \n",
    "#takes  sample_ids of [[q1,p1,n1],[q2,p2,n2]....]\n",
    "#outputs titles like [[q1_title, p1_title, n1_title],[q2_title,p2_title,n2_title]...]\n",
    "def convert_sampleids_to_titles(sample_ids,lookup):\n",
    "    #each sample_id [question_id, pos_id, [neg_ids]]\n",
    "    #print type(sample_ids)==list, \"first\"\n",
    "   \n",
    "    titles = []\n",
    "    for sample_id in sample_ids:\n",
    "        \n",
    "         #flatten list: [question_id, pos_id, [neg_ids]] --> [question_id, pos_id, neg_id1, neg_id2, ...]\n",
    "        sample_id= sample_id[:2]+sample_id[2][:]\n",
    "        #sample_id : question_id, similar_question_id, negative_question_id\n",
    "        try:\n",
    "            titles.append([lookup[str(identity)]['title'] for identity in sample_id])\n",
    "           # print type(sample_id)==list\n",
    "        except:\n",
    "            print sample_id, \"is sample id\", type(sample_id)==list\n",
    "    return titles\n",
    "    "
   ]
  },
  {
   "cell_type": "code",
   "execution_count": 3,
   "metadata": {
    "collapsed": true
   },
   "outputs": [],
   "source": [
    "#text_tokenized.txt.gz has id \\t title \\t question body\n",
    "text_tokenized='askubuntu/text_tokenized.txt.gz'\n",
    "\n",
    "#train_random.txt\n",
    "#(1) the query question ID, (2) the list of similar question IDs, and (3) the list of randomly selected question IDs.\n",
    "train_random_filename='askubuntu/train_random.txt'\n",
    "\n",
    "#Each line contains (1) the query question ID, (2) the list of similar question IDs, (3) the list of 20 candidate question IDs and (4) the associated BM25 scores of these questions computed by the Lucene search engine. The second field (the set of similar questions) is a subset of the third field.\n",
    "dev_filename='askubuntu/dev.txt'\n",
    "test_filename='askubuntu/test.txt'\n",
    "\n",
    "train_samples = convert_to_samples(train_random_filename)\n",
    "dev_samples = convert_to_samples(dev_filename)\n",
    "test_samples = convert_to_samples(test_filename)\n",
    "\n",
    "lookup = make_lookup_table_for_training_data(text_tokenized)\n",
    "train_list = convert_to_list(train_random_filename)\n",
    "train_titles_only = convert_sampleids_to_titles(train_samples, lookup)"
   ]
  },
  {
   "cell_type": "code",
   "execution_count": 4,
   "metadata": {
    "collapsed": true
   },
   "outputs": [],
   "source": [
    "def remove_non_ascii(text):\n",
    "    return ''.join([i if ord(i) < 128 else '' for i in text])\n",
    "\n",
    "word_embeddings = 'askubuntu/vector/vectors_pruned.200.txt.gz'\n",
    "f = gzip.open(word_embeddings, 'r')\n",
    "wv_text = [ ]\n",
    "lines = f.readlines()\n",
    "for line in lines:\n",
    "    wv_text.append(line.strip())\n",
    "\n",
    "word_to_vec = {}\n",
    "\n",
    "for line in wv_text:\n",
    "    parts = line.split()\n",
    "    word = parts[0]\n",
    "    vector = np.array([float(v) for v in parts[1:]])\n",
    "    word_to_vec[word] = vector\n",
    "f.close()\n",
    "\n",
    "def extract_features(word):\n",
    "    try:\n",
    "        word=remove_non_ascii(word)\n",
    "        word=word.encode('utf-8')\n",
    "    except:\n",
    "        print(word)\n",
    "    return word_to_vec.get(word,[0.0 for i in range(200)])"
   ]
  },
  {
   "cell_type": "code",
   "execution_count": 5,
   "metadata": {
    "collapsed": true
   },
   "outputs": [],
   "source": [
    "def find_maximum_title_and_body_length(lookup_table):\n",
    "    max_len_title = -1\n",
    "    max_len_question = -1\n",
    "    max_len_question_id = 0\n",
    "    for key, dict_val in lookup_table.iteritems():\n",
    "        len_title = len(dict_val['title'])\n",
    "        len_question = len(dict_val['question'])\n",
    "        if len_title > max_len_title:\n",
    "             max_len_title = len_title\n",
    "        if len_question > max_len_question:\n",
    "            max_len_question = len_question\n",
    "            max_len_question_id = key\n",
    "    return max_len_title, max_len_question\n",
    "\n",
    "def title_to_feature_matrix(title_word_list):\n",
    "    feature_matrix = []\n",
    "    for word in title_word_list:\n",
    "        word_features = extract_features(word)\n",
    "        feature_matrix.append(word_features)\n",
    "    #Pad the feature with zeros to ensure all inputs to the net have the same dimension\n",
    "    feature_matrix += [[0.] * NUM_FEATURES_PER_WORD] * (MAX_TITLE_LENGTH - len(title_word_list))\n",
    "    #print np.array(feature_matrix).T.shape\n",
    "    return np.array(feature_matrix).T"
   ]
  },
  {
   "cell_type": "code",
   "execution_count": 6,
   "metadata": {
    "collapsed": true
   },
   "outputs": [],
   "source": [
    "MAX_TITLE_LENGTH, MAX_BODY_LENGTH = find_maximum_title_and_body_length(lookup)\n",
    "NUM_FEATURES_PER_WORD = 200\n",
    "INPUT_DIM = (MAX_TITLE_LENGTH, NUM_FEATURES_PER_WORD)"
   ]
  },
  {
   "cell_type": "code",
   "execution_count": 7,
   "metadata": {},
   "outputs": [
    {
     "name": "stdout",
     "output_type": "stream",
     "text": [
      "0\n",
      "('created features', 22)\n",
      "created features\n"
     ]
    }
   ],
   "source": [
    "import torch.utils.data as data_utils\n",
    "BATCH_SIZE=50\n",
    "\n",
    "#for each tuple of titles make a feature vector that is num_titles x 200 x 38\n",
    "# where num_titles = 1 (target) + 1 (positive) + n (negative) \n",
    "features = []\n",
    "for i in range(len(train_titles_only[:1000])):   # we should include all but this is just for simplicity \n",
    "    sample=train_titles_only[i]\n",
    "    if i%1000==0 or i>9000:\n",
    "        print i\n",
    "    \n",
    "    target_title = sample[0]\n",
    "    positive_title = sample[1]\n",
    "    negative_titles = sample[2:]\n",
    "        \n",
    "    target_features = title_to_feature_matrix(target_title)\n",
    "    positive_features = title_to_feature_matrix(positive_title)\n",
    "    n_negative_features = [title_to_feature_matrix(negative_title) for negative_title in negative_titles]\n",
    "    \n",
    "    #all features should be size num_titles x feature size ....\n",
    "    # where num_titles = 1 (target) + 1 (positive) + n (negative) \n",
    "    all_features=[[[0.]*MAX_TITLE_LENGTH] * NUM_FEATURES_PER_WORD]*(2+NUM_NEGATIVE_SAMPLES)\n",
    "\n",
    "    all_features[0]=target_features\n",
    "    all_features[1]=positive_features\n",
    "    all_features[2:len(n_negative_features)+2]=n_negative_features\n",
    "    features.append(all_features)\n",
    "print(\"created features\", len(all_features))\n",
    "\n",
    "targets = torch.LongTensor(torch.FloatTensor(features).size(0), 1).zero_()\n",
    "train = data_utils.TensorDataset(torch.FloatTensor(features), targets)\n",
    "print(\"created features\")\n",
    "train_loader = data_utils.DataLoader(train, batch_size=BATCH_SIZE, shuffle=True)"
   ]
  },
  {
   "cell_type": "code",
   "execution_count": 34,
   "metadata": {},
   "outputs": [],
   "source": [
    "#array is structured like a batch of features 50x200x38\n",
    "def find_start_of_padding(batch):\n",
    "    vec_lengths_in_batch = []\n",
    "    for batch_num in range(0, len(batch)):\n",
    "        single_vec = batch[batch_num]\n",
    "        length = find_start_of_padding_single_vec(single_vec) + 1\n",
    "        vec_lengths_in_batch.append(length)\n",
    "    return vec_lengths_in_batch\n",
    "#batch = 200x38\n",
    "def find_start_of_padding_single_vec(single_vec):\n",
    "    for idx in range(len(single_vec[0])-1, -1, -1):\n",
    "        if single_vec[0][idx] != 0.:\n",
    "            return idx\n",
    "    #if the whole sequence is 0s\n",
    "    return 0"
   ]
  },
  {
   "cell_type": "code",
   "execution_count": 27,
   "metadata": {
    "collapsed": true
   },
   "outputs": [],
   "source": [
    "import torch\n",
    "import torch.autograd as autograd\n",
    "import torch.nn.functional as F\n",
    "import torch.nn as nn\n",
    "import torch.utils.data as data\n",
    "import torch.optim as optim\n",
    "from torch.autograd import Variable\n",
    "\n",
    "\n",
    "class CNN(nn.Module):\n",
    "    def __init__(self, input_dim, hidden_dim):\n",
    "        super(CNN, self).__init__()\n",
    "        \n",
    "        self.conv1d = nn.Conv1d(200, 200, KERNEL_SIZE)\n",
    "        \n",
    "        self.layer1 = nn.Sequential(\n",
    "            nn.Conv1d(200, hidden_dim, KERNEL_SIZE),\n",
    "            nn.ReLU()\n",
    "        )\n",
    "    def forward(self, x):\n",
    "        x = self.layer1(x)\n",
    "        return x"
   ]
  },
  {
   "cell_type": "code",
   "execution_count": 75,
   "metadata": {},
   "outputs": [],
   "source": [
    "def feature_vec_to_variable_mean_pool(features):\n",
    "    vec_lengths_in_batch = find_start_of_padding(features)\n",
    "    mean_pooled_features = []\n",
    "    for idx, feature in enumerate(features):\n",
    "        length = vec_lengths_in_batch[idx]\n",
    "        #feature is 200x38\n",
    "        feature = np.array(feature.numpy())/length\n",
    "        mean_pooled_features.append(feature)\n",
    "#     print len(mean_pooled_features)\n",
    "#     print len(mean_pooled_features[0])\n",
    "#     print len(mean_pooled_features[0][0])\n",
    "#     print type(mean_pooled_features)\n",
    "    mean_pooled_features = np.array(mean_pooled_features)\n",
    "    return Variable(torch.FloatTensor(mean_pooled_features))"
   ]
  },
  {
   "cell_type": "code",
   "execution_count": 91,
   "metadata": {},
   "outputs": [
    {
     "name": "stdout",
     "output_type": "stream",
     "text": [
      "going in to training\n",
      "0\n",
      "(50, 600, 36) is target matrix shape\n",
      "(50, 21600) is target vec shape 50 x 21600\n"
     ]
    },
    {
     "ename": "ValueError",
     "evalue": "cannot reshape array of size 1080000 into shape (50,0,newaxis)",
     "output_type": "error",
     "traceback": [
      "\u001b[0;31m---------------------------------------------------------------------------\u001b[0m",
      "\u001b[0;31mValueError\u001b[0m                                Traceback (most recent call last)",
      "\u001b[0;32m<ipython-input-91-8a91da4f0ba6>\u001b[0m in \u001b[0;36m<module>\u001b[0;34m()\u001b[0m\n\u001b[1;32m     41\u001b[0m         \u001b[0;32mprint\u001b[0m \u001b[0mnp\u001b[0m\u001b[0;34m.\u001b[0m\u001b[0marray\u001b[0m\u001b[0;34m(\u001b[0m\u001b[0mtarget_vec\u001b[0m\u001b[0;34m)\u001b[0m\u001b[0;34m.\u001b[0m\u001b[0mshape\u001b[0m\u001b[0;34m,\u001b[0m \u001b[0;34m\"is target vec shape 50 x 21600\"\u001b[0m\u001b[0;34m\u001b[0m\u001b[0m\n\u001b[1;32m     42\u001b[0m         \u001b[0;31m#positive_vec = [positive_matrix.data.numpy()[i].flatten() for i in range(len(positive_matrix))]\u001b[0m\u001b[0;34m\u001b[0m\u001b[0;34m\u001b[0m\u001b[0m\n\u001b[0;32m---> 43\u001b[0;31m         \u001b[0mpositive_vec\u001b[0m \u001b[0;34m=\u001b[0m \u001b[0mpositive_matrix\u001b[0m\u001b[0;34m.\u001b[0m\u001b[0mdata\u001b[0m\u001b[0;34m.\u001b[0m\u001b[0mnumpy\u001b[0m\u001b[0;34m(\u001b[0m\u001b[0;34m)\u001b[0m\u001b[0;34m.\u001b[0m\u001b[0mreshape\u001b[0m\u001b[0;34m(\u001b[0m\u001b[0;36m50\u001b[0m\u001b[0;34m,\u001b[0m\u001b[0;36m0\u001b[0m\u001b[0;34m,\u001b[0m\u001b[0;34m-\u001b[0m\u001b[0;36m1\u001b[0m\u001b[0;34m)\u001b[0m\u001b[0;34m\u001b[0m\u001b[0m\n\u001b[0m\u001b[1;32m     44\u001b[0m         \u001b[0;31m#n_negative_vecs = [[negative_matrix.data.numpy()[i].flatten() for i in range(len(negative_matrix))] for negative_matrix in n_negative_matrices]\u001b[0m\u001b[0;34m\u001b[0m\u001b[0;34m\u001b[0m\u001b[0m\n\u001b[1;32m     45\u001b[0m         \u001b[0mn_negative_vecs\u001b[0m \u001b[0;34m=\u001b[0m \u001b[0;34m[\u001b[0m\u001b[0mnegative_matrix\u001b[0m\u001b[0;34m.\u001b[0m\u001b[0mdata\u001b[0m\u001b[0;34m.\u001b[0m\u001b[0mnumpy\u001b[0m\u001b[0;34m(\u001b[0m\u001b[0;34m)\u001b[0m\u001b[0;34m.\u001b[0m\u001b[0mreshape\u001b[0m\u001b[0;34m(\u001b[0m\u001b[0;36m50\u001b[0m\u001b[0;34m,\u001b[0m\u001b[0;36m1\u001b[0m\u001b[0;34m,\u001b[0m\u001b[0;34m-\u001b[0m\u001b[0;36m1\u001b[0m\u001b[0;34m)\u001b[0m \u001b[0;32mfor\u001b[0m \u001b[0mnegative_matrix\u001b[0m \u001b[0;32min\u001b[0m \u001b[0mn_negative_matrices\u001b[0m\u001b[0;34m]\u001b[0m\u001b[0;34m\u001b[0m\u001b[0m\n",
      "\u001b[0;31mValueError\u001b[0m: cannot reshape array of size 1080000 into shape (50,0,newaxis)"
     ]
    }
   ],
   "source": [
    "from sklearn.metrics.pairwise import cosine_similarity\n",
    "KERNEL_SIZE = 3\n",
    "INPUT_SIZE = 200\n",
    "HIDDEN_SIZE = 600\n",
    "LEARNING_RATE = 1e-3\n",
    "NUM_EPOCHS = 25\n",
    "net = CNN(INPUT_SIZE, HIDDEN_SIZE)\n",
    "\n",
    "criterion = nn.MultiMarginLoss(p=1, margin=0.2, weight=None, size_average=True) #HAHA just put these in to look smart \n",
    "optimizer = torch.optim.Adam(net.parameters(), lr = LEARNING_RATE)\n",
    "\n",
    "print \"going in to training\"\n",
    "# ----TRAINING\n",
    "for epoch in range(NUM_EPOCHS):\n",
    "    running_loss = 0.0\n",
    "   # for sample in features:\n",
    "    for i,(sample,label) in enumerate(train_loader):\n",
    "        if i%25==0:\n",
    "            print i\n",
    "        target_features=sample[:,0] \n",
    "#         print len(target_features), 'a' #50\n",
    "#         print len(target_features[0])   #200\n",
    "#         print len(target_features[0][0])#38\n",
    "#         print target_features,'d'\n",
    "        target_features = feature_vec_to_variable_mean_pool(target_features)\n",
    "                \n",
    "        positive_features=sample[:,1]\n",
    "        positive_features=feature_vec_to_variable_mean_pool(positive_features)\n",
    "        \n",
    "        n_negative_features=[sample[:,i] for i in range(2, len(sample[0]))]\n",
    "        n_negative_features=[feature_vec_to_variable_mean_pool(negative_features) for negative_features in n_negative_features]\n",
    "        \n",
    "        #print target_features.data.numpy().shape, \"is target features shape\"\n",
    "        target_matrix = net(target_features)\n",
    "        print target_matrix.data.numpy().shape, \"is target matrix shape\"\n",
    "        positive_matrix = net(positive_features)\n",
    "        n_negative_matrices = [net(negative_features) for negative_features in n_negative_features]\n",
    "        \n",
    "        target_vec = target_matrix.data.numpy().reshape(50,-1)\n",
    "        #target_vec = [target_matrix.data.numpy()[i].flatten() for i in range(len(target_matrix))]\n",
    "        print np.array(target_vec).shape, \"is target vec shape 50 x 21600\"\n",
    "        #positive_vec = [positive_matrix.data.numpy()[i].flatten() for i in range(len(positive_matrix))]\n",
    "        positive_vec = positive_matrix.data.numpy().reshape(50,0,-1)\n",
    "        #n_negative_vecs = [[negative_matrix.data.numpy()[i].flatten() for i in range(len(negative_matrix))] for negative_matrix in n_negative_matrices]\n",
    "        n_negative_vecs = [negative_matrix.data.numpy().reshape(50,1,-1) for negative_matrix in n_negative_matrices]\n",
    "        #print target_vec, \"is target_vec\"\n",
    "        #print target_vec.shape, \"is for target vec\"\n",
    "        #print positive_vec.shape, \"is for pos vec\"\n",
    "        cos_sim_positive = [cosine_similarity(target_vec[i], positive_vec[i]) for i in range(BATCH_SIZE)]\n",
    "        print len(cos_sim_positive), \"should be 50\"\n",
    "        print cos_sim_positive[0][0], \"number\"\n",
    "        all_cos_sim_negative=[]\n",
    "        for i in range(BATCH_SIZE):\n",
    "            batch_of_cos_sims=[]\n",
    "            for j in range(len(n_negative_vecs)):\n",
    "                negative_vec=n_negative_vecs[j]\n",
    "                #print negative_vec[0], \"is negative_vec\", i\n",
    "                batch_of_cos_sims.append(cosine_similarity(target_vec[i], negative_vec[i]))\n",
    "            all_cos_sim_negative.append(batch_of_cos_sims)\n",
    "        print len(all_cos_sim_negative), all_cos_sim_negative[0]\n",
    "        all_cos_sim_negative=np.array(all_cos_sim_negative)[:,:,:,0]\n",
    "        cos_sim_positive = np.array([cos_sim_positive[i] for i in range(BATCH_SIZE)])\n",
    "        # cos sims should be BATCH_SIZE x num questions (i.e. 2 when only using 1 negative example or 21 when using 20)        \n",
    "        cos_sims=np.concatenate((cos_sim_positive, all_cos_sim_negative),axis=1)\n",
    "        print cos_sims[0], \"is cos_sims for first in batch\"\n",
    "        max_idx = Variable(torch.FloatTensor(np.array(cos_sims)), requires_grad=True) #use axis = 1 when we use more negative examples later\n",
    "        max_idx=max_idx[:,:,0]\n",
    "       # y = Variable(torch.LongTensor([0]),requires_grad=True)\n",
    "        y = Variable(label)\n",
    "        y=y[:,0]\n",
    "        \"\"\"\n",
    "        because we know the 0th index in cos_sims is always the example we expect to most closely match \n",
    "        the target question\n",
    "        \"\"\"\n",
    "\n",
    "        optimizer.zero_grad()\n",
    "        \n",
    "        loss = criterion(max_idx, y)\n",
    "        #print loss, max_idx, \"is loss and max idx\"\n",
    "        loss.backward()\n",
    "    \n",
    "        running_loss += loss.data[0]\n",
    "#         print running_loss\n",
    "        optimizer.step()\n",
    "\n",
    "    print \"Loss after epoch \" + str(epoch) + \" :\" + str(running_loss)\n",
    "# ----END TRAINING\n",
    "\n"
   ]
  },
  {
   "cell_type": "code",
   "execution_count": null,
   "metadata": {
    "collapsed": true
   },
   "outputs": [],
   "source": [
    "len(train_titles_only)"
   ]
  },
  {
   "cell_type": "code",
   "execution_count": null,
   "metadata": {
    "collapsed": true
   },
   "outputs": [],
   "source": [
    "criterion(Variable(torch.FloatTensor([1,2,3,4,5,6,7,8,9,10,10.2])),Variable(torch.LongTensor([10])))"
   ]
  },
  {
   "cell_type": "code",
   "execution_count": null,
   "metadata": {
    "collapsed": true
   },
   "outputs": [],
   "source": [
    "sample[0][0:3]"
   ]
  },
  {
   "cell_type": "code",
   "execution_count": null,
   "metadata": {
    "collapsed": true
   },
   "outputs": [],
   "source": [
    "cosine_similarity(sample[0][0].numpy().flatten(), sample[0][1].numpy().flatten())[0][0]"
   ]
  },
  {
   "cell_type": "code",
   "execution_count": null,
   "metadata": {
    "collapsed": true,
    "scrolled": true
   },
   "outputs": [],
   "source": [
    "sample[0][0].numpy().shape"
   ]
  },
  {
   "cell_type": "code",
   "execution_count": null,
   "metadata": {
    "collapsed": true
   },
   "outputs": [],
   "source": []
  }
 ],
 "metadata": {
  "kernelspec": {
   "display_name": "Python 2",
   "language": "python",
   "name": "python2"
  },
  "language_info": {
   "codemirror_mode": {
    "name": "ipython",
    "version": 2
   },
   "file_extension": ".py",
   "mimetype": "text/x-python",
   "name": "python",
   "nbconvert_exporter": "python",
   "pygments_lexer": "ipython2",
   "version": "2.7.13"
  }
 },
 "nbformat": 4,
 "nbformat_minor": 2
}
