{
 "cells": [
  {
   "cell_type": "code",
   "execution_count": 11,
   "metadata": {},
   "outputs": [
    {
     "data": {
      "text/plain": [
       "<torch._C.Generator at 0x10028fc30>"
      ]
     },
     "execution_count": 11,
     "metadata": {},
     "output_type": "execute_result"
    }
   ],
   "source": [
    "import torch\n",
    "import torch.autograd as autograd\n",
    "import torch.nn as nn\n",
    "import torch.nn.functional as F\n",
    "import torch.optim as optim\n",
    "\n",
    "torch.manual_seed(1)"
   ]
  },
  {
   "cell_type": "code",
   "execution_count": 19,
   "metadata": {},
   "outputs": [
    {
     "name": "stdout",
     "output_type": "stream",
     "text": [
      "(Variable containing:\n",
      "(0 ,.,.) = \n",
      "  0.3144  0.4067 -0.2899\n",
      "[torch.FloatTensor of size 1x1x3]\n",
      ", Variable containing:\n",
      "(0 ,.,.) = \n",
      "  1.0458  1.0092 -0.6132\n",
      "[torch.FloatTensor of size 1x1x3]\n",
      ")\n",
      "(Variable containing:\n",
      "(0 ,.,.) = \n",
      "  0.2405  0.1165 -0.2440\n",
      "[torch.FloatTensor of size 1x1x3]\n",
      ", Variable containing:\n",
      "(0 ,.,.) = \n",
      "  0.2758  1.0055 -0.4459\n",
      "[torch.FloatTensor of size 1x1x3]\n",
      ")\n",
      "(Variable containing:\n",
      "(0 ,.,.) = \n",
      "  0.1722  0.1892 -0.1067\n",
      "[torch.FloatTensor of size 1x1x3]\n",
      ", Variable containing:\n",
      "(0 ,.,.) = \n",
      "  0.2547  0.9995 -0.2025\n",
      "[torch.FloatTensor of size 1x1x3]\n",
      ")\n",
      "(Variable containing:\n",
      "(0 ,.,.) = \n",
      "  0.1509  0.2296 -0.1337\n",
      "[torch.FloatTensor of size 1x1x3]\n",
      ", Variable containing:\n",
      "(0 ,.,.) = \n",
      "  0.2697  1.0722 -0.2731\n",
      "[torch.FloatTensor of size 1x1x3]\n",
      ")\n",
      "(Variable containing:\n",
      "(0 ,.,.) = \n",
      "  0.2806  0.4155  0.0818\n",
      "[torch.FloatTensor of size 1x1x3]\n",
      ", Variable containing:\n",
      "(0 ,.,.) = \n",
      "  0.5521  0.9221  0.1809\n",
      "[torch.FloatTensor of size 1x1x3]\n",
      ")\n"
     ]
    }
   ],
   "source": [
    "lstm = nn.LSTM(3,3)\n",
    "inputs = [autograd.Variable(torch.randn(1, 3))\n",
    "          for _ in range(5)]  # make a sequence of length 5\n",
    "hidden = (\n",
    "          autograd.Variable(torch.randn(1, 1, 3)),\n",
    "          autograd.Variable(torch.randn(1, 1, 3))\n",
    "         )\n",
    "for i in inputs:\n",
    "    out, hidden = lstm(i.view(1, 1, -1), hidden)\n"
   ]
  },
  {
   "cell_type": "code",
   "execution_count": 20,
   "metadata": {},
   "outputs": [],
   "source": [
    "training_data = [\n",
    "    (\"The dog ate the apple\".split(), [\"DET\", \"NN\", \"V\", \"DET\", \"NN\"]),\n",
    "    (\"Everybody read that book\".split(), [\"NN\", \"V\", \"DET\", \"NN\"])\n",
    "]"
   ]
  },
  {
   "cell_type": "code",
   "execution_count": 21,
   "metadata": {},
   "outputs": [],
   "source": [
    "class LSTM(nn.Module):\n",
    "    def __init__(self, embedding_dim, hidden_dim):\n",
    "        super(LSTM, self).__init__()\n",
    "        self.lstm = nn.LSTM(embedding_dim, hidden_dim)\n",
    "        self.hidden = self.init_hidden()\n",
    "        \n",
    "    def init_hidden(self):\n",
    "        return (autograd.Variable(torch.zeros(BATCH_SIZE, 1, hidden_dim)),\n",
    "                autograd.Variable(torch.zeros(BATCH_SIZE, 1, hidden_dim)))\n",
    "\n",
    "    def forward(self, sequence):\n",
    "        lstm_out, self.hidden = self.lstm(word, self.hidden)\n",
    "        return self.hidden\n"
   ]
  },
  {
   "cell_type": "code",
   "execution_count": 22,
   "metadata": {},
   "outputs": [
    {
     "ename": "NameError",
     "evalue": "global name 'BATCH_SIZE' is not defined",
     "output_type": "error",
     "traceback": [
      "\u001b[0;31m---------------------------------------------------------------------------\u001b[0m",
      "\u001b[0;31mNameError\u001b[0m                                 Traceback (most recent call last)",
      "\u001b[0;32m<ipython-input-22-5da38b24119d>\u001b[0m in \u001b[0;36m<module>\u001b[0;34m()\u001b[0m\n\u001b[1;32m      1\u001b[0m \u001b[0mEMBEDDING_DIM\u001b[0m\u001b[0;34m,\u001b[0m \u001b[0mHIDDEN_DIM\u001b[0m \u001b[0;34m=\u001b[0m \u001b[0;36m200\u001b[0m\u001b[0;34m,\u001b[0m \u001b[0;36m200\u001b[0m\u001b[0;34m\u001b[0m\u001b[0m\n\u001b[0;32m----> 2\u001b[0;31m \u001b[0mlstm\u001b[0m \u001b[0;34m=\u001b[0m \u001b[0mLSTM\u001b[0m\u001b[0;34m(\u001b[0m\u001b[0mEMBEDDING_DIM\u001b[0m\u001b[0;34m,\u001b[0m \u001b[0mHIDDEN_DIM\u001b[0m\u001b[0;34m)\u001b[0m\u001b[0;34m\u001b[0m\u001b[0m\n\u001b[0m\u001b[1;32m      3\u001b[0m \u001b[0;34m\u001b[0m\u001b[0m\n\u001b[1;32m      4\u001b[0m \u001b[0;32mfor\u001b[0m \u001b[0mepoch\u001b[0m \u001b[0;32min\u001b[0m \u001b[0mrange\u001b[0m\u001b[0;34m(\u001b[0m\u001b[0mNUM_EPOCHS\u001b[0m\u001b[0;34m)\u001b[0m\u001b[0;34m:\u001b[0m\u001b[0;34m\u001b[0m\u001b[0m\n\u001b[1;32m      5\u001b[0m     \u001b[0mrunning_loss\u001b[0m \u001b[0;34m=\u001b[0m \u001b[0;36m0.0\u001b[0m\u001b[0;34m\u001b[0m\u001b[0m\n",
      "\u001b[0;32m<ipython-input-21-2c39ed93cd42>\u001b[0m in \u001b[0;36m__init__\u001b[0;34m(self, embedding_dim, hidden_dim)\u001b[0m\n\u001b[1;32m      3\u001b[0m         \u001b[0msuper\u001b[0m\u001b[0;34m(\u001b[0m\u001b[0mLSTM\u001b[0m\u001b[0;34m,\u001b[0m \u001b[0mself\u001b[0m\u001b[0;34m)\u001b[0m\u001b[0;34m.\u001b[0m\u001b[0m__init__\u001b[0m\u001b[0;34m(\u001b[0m\u001b[0;34m)\u001b[0m\u001b[0;34m\u001b[0m\u001b[0m\n\u001b[1;32m      4\u001b[0m         \u001b[0mself\u001b[0m\u001b[0;34m.\u001b[0m\u001b[0mlstm\u001b[0m \u001b[0;34m=\u001b[0m \u001b[0mnn\u001b[0m\u001b[0;34m.\u001b[0m\u001b[0mLSTM\u001b[0m\u001b[0;34m(\u001b[0m\u001b[0membedding_dim\u001b[0m\u001b[0;34m,\u001b[0m \u001b[0mhidden_dim\u001b[0m\u001b[0;34m)\u001b[0m\u001b[0;34m\u001b[0m\u001b[0m\n\u001b[0;32m----> 5\u001b[0;31m         \u001b[0mself\u001b[0m\u001b[0;34m.\u001b[0m\u001b[0mhidden\u001b[0m \u001b[0;34m=\u001b[0m \u001b[0mself\u001b[0m\u001b[0;34m.\u001b[0m\u001b[0minit_hidden\u001b[0m\u001b[0;34m(\u001b[0m\u001b[0;34m)\u001b[0m\u001b[0;34m\u001b[0m\u001b[0m\n\u001b[0m\u001b[1;32m      6\u001b[0m \u001b[0;34m\u001b[0m\u001b[0m\n\u001b[1;32m      7\u001b[0m     \u001b[0;32mdef\u001b[0m \u001b[0minit_hidden\u001b[0m\u001b[0;34m(\u001b[0m\u001b[0mself\u001b[0m\u001b[0;34m)\u001b[0m\u001b[0;34m:\u001b[0m\u001b[0;34m\u001b[0m\u001b[0m\n",
      "\u001b[0;32m<ipython-input-21-2c39ed93cd42>\u001b[0m in \u001b[0;36minit_hidden\u001b[0;34m(self)\u001b[0m\n\u001b[1;32m      6\u001b[0m \u001b[0;34m\u001b[0m\u001b[0m\n\u001b[1;32m      7\u001b[0m     \u001b[0;32mdef\u001b[0m \u001b[0minit_hidden\u001b[0m\u001b[0;34m(\u001b[0m\u001b[0mself\u001b[0m\u001b[0;34m)\u001b[0m\u001b[0;34m:\u001b[0m\u001b[0;34m\u001b[0m\u001b[0m\n\u001b[0;32m----> 8\u001b[0;31m         return (autograd.Variable(torch.zeros(BATCH_SIZE, 1, hidden_dim)),\n\u001b[0m\u001b[1;32m      9\u001b[0m                 autograd.Variable(torch.zeros(BATCH_SIZE, 1, hidden_dim)))\n\u001b[1;32m     10\u001b[0m \u001b[0;34m\u001b[0m\u001b[0m\n",
      "\u001b[0;31mNameError\u001b[0m: global name 'BATCH_SIZE' is not defined"
     ]
    }
   ],
   "source": [
    "EMBEDDING_DIM, HIDDEN_DIM = 200, 200\n",
    "lstm = LSTM(EMBEDDING_DIM, HIDDEN_DIM)\n",
    "\n",
    "for epoch in range(NUM_EPOCHS):\n",
    "    running_loss = 0.0\n",
    "    for idx,(sample, label) in enumerate(train_loader):\n",
    "        #Sample shape: [50, 22, 200, 38]\n",
    "        #50 - Batch size, 22 - Num questions per data point\n",
    "        batch_cos_similarities = []\n",
    "        batch_num = idx\n",
    "        \n",
    "        #CNN : BATCH X WORD EMBEDDINGS X WORD\n",
    "        #LSTM : WORD X BATCH X WORD EMBEDDING\n",
    "        \n",
    "        target_question_features = sample[:, 0]\n",
    "        positive_question_features = sample[:, 1]\n",
    "        N_negative_question_features = sample[:, 2:]\n",
    "        \n",
    "        target_question_lstm_output = lstm(Variable(target_question_features))\n",
    "        positive_question_lstm_output = lstm(Variable(positive_question_features))\n",
    "        N_negative_question_lstm_outputs = [lstm(Variable(negative)) for negative in N_negative_question_features]\n",
    "        \n",
    "        #Determine lengths to know how many vectors to take the average across.\n",
    "        target_question_lengths = find_start_of_padding_for_batch(target_question_features)\n",
    "        positive_question_lengths = find_start_of_padding_for_batch(positive_question_features)\n",
    "        N_negative_questions_lengths = [find_start_of_padding_for_batch(negative) for negative in N_negative_question_features]\n",
    "                \n",
    "        batch_cos_sims = []\n",
    "        #50x600x38 --> 50x600x1. Averaging across the lstm outputs to get a single vector for each question.\n",
    "        for sample_num in range(BATCH_SIZE):\n",
    "            target_question_length = target_question_lengths[sample_num]\n",
    "            positive_question_length = positive_question_lengths[sample_num]\n",
    "            N_negative_question_lengths = N_negative_questions_lengths[sample_num]\n",
    "            N_negative_question_outputs = N_negative_question_lstm_outputs[sample_num]\n",
    "            \n",
    "            target_question_vector = target_question_lstm_output.data.numpy()[sample_num,:,:target_question_length].mean(axis = 1)\n",
    "            positive_question_vector = positive_question_lstm_output.data.numpy()[sample_num,:,:positive_question_length].mean(axis = 1)\n",
    "            \n",
    "            N_negative_question_vectors = [negative.data.numpy()[:,:N_negative_question_lengths[idx]].mean(axis = 1) for idx, negative in enumerate(N_negative_question_outputs)]\n",
    "        \n",
    "            cosine_similarity_pos = np.squeeze(cosine_similarity(target_question_vector.reshape(1, -1), positive_question_vector.reshape(1, -1)))\n",
    "            cosine_similarity_neg = [np.squeeze(cosine_similarity(target_question_vector.reshape(1, -1), negative.reshape(1, -1))) for negative in N_negative_question_vectors]\n",
    "            \n",
    "            cosine_sims = np.array([cosine_similarity_pos] + cosine_similarity_neg).flatten()\n",
    "            batch_cos_sims.append(cosine_sims)\n",
    "        \n",
    "        optimizer.zero_grad()\n",
    "        \n",
    "        batch_labels = Variable(torch.from_numpy(label.numpy().squeeze()), requires_grad = True)\n",
    "        loss = criterion(Variable(torch.FloatTensor(np.array(batch_cos_sims))), batch_labels)\n",
    "            \n",
    "        loss.backward()\n",
    "            \n",
    "        running_loss += loss.data[0]\n",
    "            \n",
    "        optimizer.step()\n",
    "        print \"Epoch: {}, Batch: {}, Loss: {}\".format(epoch, batch_num, loss.data[0])\n",
    "\n",
    "    print \"Loss after epoch \" + str(epoch) + \" :\" + str(running_loss)\n",
    "    \n"
   ]
  },
  {
   "cell_type": "code",
   "execution_count": null,
   "metadata": {},
   "outputs": [],
   "source": []
  }
 ],
 "metadata": {
  "kernelspec": {
   "display_name": "Python 2",
   "language": "python",
   "name": "python2"
  },
  "language_info": {
   "codemirror_mode": {
    "name": "ipython",
    "version": 2
   },
   "file_extension": ".py",
   "mimetype": "text/x-python",
   "name": "python",
   "nbconvert_exporter": "python",
   "pygments_lexer": "ipython2",
   "version": "2.7.12"
  }
 },
 "nbformat": 4,
 "nbformat_minor": 2
}
